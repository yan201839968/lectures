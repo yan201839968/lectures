{
  "nbformat": 4,
  "nbformat_minor": 0,
  "metadata": {
    "colab": {
      "name": "ST456 Assignment 1",
      "provenance": [],
      "authorship_tag": "ABX9TyPrJPEnYTiMt+VIxpJ03COe",
      "include_colab_link": true
    },
    "kernelspec": {
      "name": "python3",
      "display_name": "Python 3"
    },
    "language_info": {
      "name": "python"
    }
  },
  "cells": [
    {
      "cell_type": "markdown",
      "metadata": {
        "id": "view-in-github",
        "colab_type": "text"
      },
      "source": [
        "<a href=\"https://colab.research.google.com/github/yan201839968/lectures/blob/master/ST456_Assignment_1.ipynb\" target=\"_parent\"><img src=\"https://colab.research.google.com/assets/colab-badge.svg\" alt=\"Open In Colab\"/></a>"
      ]
    },
    {
      "cell_type": "markdown",
      "source": [
        "# ST456 Assignment 1\n",
        "## Candidate number: 31849"
      ],
      "metadata": {
        "id": "oOBi6Pg-7Vv1"
      }
    },
    {
      "cell_type": "code",
      "execution_count": null,
      "metadata": {
        "id": "BAidf5yV7LWt"
      },
      "outputs": [],
      "source": [
        ""
      ]
    }
  ]
}